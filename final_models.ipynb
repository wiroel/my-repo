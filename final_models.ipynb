{
  "nbformat": 4,
  "nbformat_minor": 0,
  "metadata": {
    "colab": {
      "provenance": [],
      "authorship_tag": "ABX9TyN6JM9gp8mFzXhn5f3lYNsD",
      "include_colab_link": true
    },
    "kernelspec": {
      "name": "python3",
      "display_name": "Python 3"
    },
    "language_info": {
      "name": "python"
    }
  },
  "cells": [
    {
      "cell_type": "markdown",
      "metadata": {
        "id": "view-in-github",
        "colab_type": "text"
      },
      "source": [
        "<a href=\"https://colab.research.google.com/github/wiroel/my-repo/blob/main/final_models.ipynb\" target=\"_parent\"><img src=\"https://colab.research.google.com/assets/colab-badge.svg\" alt=\"Open In Colab\"/></a>"
      ]
    },
    {
      "cell_type": "code",
      "execution_count": 7,
      "metadata": {
        "colab": {
          "base_uri": "https://localhost:8080/"
        },
        "id": "FKhNl7osM4WE",
        "outputId": "7d0909a2-744d-47fe-af11-3ac00d77ca61"
      },
      "outputs": [
        {
          "output_type": "stream",
          "name": "stdout",
          "text": [
            "Drive already mounted at /content/drive; to attempt to forcibly remount, call drive.mount(\"/content/drive\", force_remount=True).\n"
          ]
        }
      ],
      "source": [
        "from google.colab import drive\n",
        "import joblib\n",
        "\n",
        "drive.mount('/content/drive')\n",
        "\n",
        "final_rf = joblib.load('/content/drive/MyDrive/final_rf.pkl')\n",
        "final_xg = joblib.load('/content/drive/MyDrive/final_xg.pkl')\n",
        "\n",
        "X_train_resampled = joblib.load('/content/drive/MyDrive/X_train_resampled.pkl')\n",
        "y_train_resampled = joblib.load('/content/drive/MyDrive/y_train_resampled.pkl')\n",
        "X_test = joblib.load('/content/drive/MyDrive/X_test.pkl')\n",
        "y_test = joblib.load('/content/drive/MyDrive/y_test.pkl')"
      ]
    },
    {
      "cell_type": "code",
      "source": [
        "from xgboost import XGBClassifier\n",
        "from sklearn.model_selection import RandomizedSearchCV\n",
        "\n",
        "from sklearn.metrics import precision_recall_curve\n",
        "\n",
        "\n",
        "from sklearn.model_selection import GridSearchCV\n",
        "from sklearn.ensemble import RandomForestClassifier\n",
        "\n",
        "from sklearn.metrics import confusion_matrix"
      ],
      "metadata": {
        "id": "y-kZ16V6NLu7"
      },
      "execution_count": 9,
      "outputs": []
    },
    {
      "cell_type": "markdown",
      "source": [
        "# Hyperparameter tuning on random forest\n"
      ],
      "metadata": {
        "id": "_jrqEOUkOoeN"
      }
    },
    {
      "cell_type": "code",
      "source": [
        "final_rf.fit(X_train_resampled, y_train_resampled)\n",
        "\n",
        "\n",
        "# this is for identifying the threshold for y_prob as the default is 0.5, this gives perffect threshold\n",
        "\n",
        "from sklearn.metrics import precision_recall_curve\n",
        "\n",
        "y_probs= final_rf.predict_proba(X_test)[:, 1]\n",
        "\n",
        "precision, recall, thresholds = precision_recall_curve(y_test, y_probs)\n",
        "\n",
        "\n",
        "f1_score = 2 * (precision * recall) / (precision+recall)\n",
        "best_threshold_rf = thresholds[f1_score.argmax()]\n",
        "\n",
        "print(f\"Best threshold: {best_threshold_rf}\")\n",
        "\n",
        "\n",
        "\n",
        "#y_pred = final_rf.predict(X_test)\n",
        "\n",
        "y_pred = (y_probs >= best_threshold_rf).astype(int)\n",
        "\n",
        "from sklearn.metrics import classification_report\n",
        "\n",
        "print(classification_report(y_test, y_pred))\n",
        "print(confusion_matrix(y_test, y_pred))"
      ],
      "metadata": {
        "colab": {
          "base_uri": "https://localhost:8080/"
        },
        "id": "OogGpDuLOoN_",
        "outputId": "57807c34-88f6-40d0-ec78-bfa2dadcb4fa"
      },
      "execution_count": 15,
      "outputs": [
        {
          "output_type": "stream",
          "name": "stdout",
          "text": [
            "Best threshold: 0.1909101027698589\n",
            "              precision    recall  f1-score   support\n",
            "\n",
            "           0       0.99      0.93      0.96      1254\n",
            "           1       0.37      0.80      0.50        66\n",
            "\n",
            "    accuracy                           0.92      1320\n",
            "   macro avg       0.68      0.86      0.73      1320\n",
            "weighted avg       0.96      0.92      0.93      1320\n",
            "\n",
            "[[1162   92]\n",
            " [  13   53]]\n"
          ]
        }
      ]
    },
    {
      "cell_type": "markdown",
      "source": [
        "# hyperparameter tuning for xgboost"
      ],
      "metadata": {
        "id": "tNpFVjWaPAU9"
      }
    },
    {
      "cell_type": "code",
      "source": [
        "final_xg = XGBClassifier(\n",
        "    subsample=0.8,\n",
        "    scale_pos_weight=1,\n",
        "    n_estimators=100,\n",
        "    max_depth=7, learning_rate=0.3,\n",
        "    gamma=0.2, colsample_bytree=0.8\n",
        ")\n",
        "\n",
        "final_xg.fit(X_train_resampled.to_numpy(), y_train_resampled)\n",
        "\n",
        "\n",
        "##again for identifying threshold for y_prob\n",
        "\n",
        "\n",
        "from sklearn.metrics import precision_recall_curve\n",
        "\n",
        "y_probs = final_xg.predict_proba(X_test.to_numpy())[:, 1]\n",
        "\n",
        "precision, recall, threshold = precision_recall_curve(y_test, y_probs)\n",
        "\n",
        "f1_score = 2 * (precision*recall)/(precision+recall)\n",
        "\n",
        "best_threshold_xg = threshold[f1_score.argmax()]\n",
        "\n",
        "print(f\"Best threshold: {best_threshold_xg}\")\n",
        "\n",
        "\n",
        "\n",
        "\n",
        "#y_pred = final_xg.predict(X_test.to_numpy())\n",
        "\n",
        "y_pred = (y_probs >= best_threshold_xg).astype(int)\n",
        "\n",
        "print(classification_report(y_test, y_pred))\n",
        "print(confusion_matrix(y_test, y_pred))"
      ],
      "metadata": {
        "colab": {
          "base_uri": "https://localhost:8080/"
        },
        "id": "ysU3eTe7OLEb",
        "outputId": "3f02ea8e-4366-43fd-ad82-19d725650ea4"
      },
      "execution_count": 13,
      "outputs": [
        {
          "output_type": "stream",
          "name": "stdout",
          "text": [
            "Best threshold: 0.8878124952316284\n",
            "              precision    recall  f1-score   support\n",
            "\n",
            "           0       0.98      0.98      0.98      1254\n",
            "           1       0.55      0.55      0.55        66\n",
            "\n",
            "    accuracy                           0.95      1320\n",
            "   macro avg       0.76      0.76      0.76      1320\n",
            "weighted avg       0.95      0.95      0.95      1320\n",
            "\n",
            "[[1224   30]\n",
            " [  30   36]]\n"
          ]
        }
      ]
    },
    {
      "cell_type": "code",
      "source": [
        "import joblib\n",
        "\n",
        "joblib.dump(best_threshold_rf, '/content/drive/MyDrive/best_threshold_rf.pkl')\n",
        "joblib.dump(best_threshold_xg, '/content/drive/MyDrive/best_threshold_xg.pkl')\n"
      ],
      "metadata": {
        "colab": {
          "base_uri": "https://localhost:8080/"
        },
        "id": "pomMJyxCSEKk",
        "outputId": "17617317-b371-483d-f449-76138d8a98e3"
      },
      "execution_count": 16,
      "outputs": [
        {
          "output_type": "execute_result",
          "data": {
            "text/plain": [
              "['/content/drive/MyDrive/best_threshold_xg.pkl']"
            ]
          },
          "metadata": {},
          "execution_count": 16
        }
      ]
    }
  ]
}